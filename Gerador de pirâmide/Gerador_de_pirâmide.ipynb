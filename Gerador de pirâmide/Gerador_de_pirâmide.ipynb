{
  "nbformat": 4,
  "nbformat_minor": 0,
  "metadata": {
    "colab": {
      "provenance": [],
      "authorship_tag": "ABX9TyNJLTMinEeaKOF58v9RcZ3K",
      "include_colab_link": true
    },
    "kernelspec": {
      "name": "python3",
      "display_name": "Python 3"
    },
    "language_info": {
      "name": "python"
    }
  },
  "cells": [
    {
      "cell_type": "markdown",
      "metadata": {
        "id": "view-in-github",
        "colab_type": "text"
      },
      "source": [
        "<a href=\"https://colab.research.google.com/github/V1N1SB/Programas_Aleatorios_Python/blob/Pagina-Inicial/Gerador%20de%20pir%C3%A2mide/Gerador_de_pir%C3%A2mide.ipynb\" target=\"_parent\"><img src=\"https://colab.research.google.com/assets/colab-badge.svg\" alt=\"Open In Colab\"/></a>"
      ]
    },
    {
      "cell_type": "code",
      "execution_count": null,
      "metadata": {
        "id": "K6Tq_mBhAO-9"
      },
      "outputs": [],
      "source": [
        "def menu_inicial():\n",
        "    while True:\n",
        "        op = input('======== MENU INICIAL ========\\n1 - Começar\\n2 - Sair\\n>>> Digite sua opção: ')\n",
        "        match op:\n",
        "            case '1':\n",
        "                piramide, opcao = pedir_altura()\n",
        "                match opcao:\n",
        "                    case \"altura\":\n",
        "                        printar_pela_altura(piramide)\n",
        "                        preco(piramide)\n",
        "                    case \"base\":\n",
        "                        printar_pela_base(piramide)\n",
        "                        preco(piramide)\n",
        "            case '2':\n",
        "                print('\\nRaleu mofi')\n",
        "                break\n",
        "        continuar = input('\\n>>> Deseja testar novamente?(s/n): ').lower()\n",
        "        print('')\n",
        "        if continuar != 's':\n",
        "            print('Tamo junto')\n",
        "            break\n",
        "\n",
        "def pedir_altura():\n",
        "    while True:\n",
        "\n",
        "        pergunta = input('\\n>>> Você gostaria de definir a pirâmida pelo tamanho da base ou pela altura? (base/altura): ').lower()\n",
        "\n",
        "        match pergunta:\n",
        "\n",
        "            case \"base\":\n",
        "                while True:\n",
        "                    print('\\n(Digite \"c\" para cancelar)')\n",
        "                    tamanho_base = input('>>> Digite o tamanho da base (tem que ser um número ímpar): ').lower()\n",
        "                    if tamanho_base == \"c\":\n",
        "                        break\n",
        "                    else:\n",
        "                        try:\n",
        "                            base = int(tamanho_base)\n",
        "                            if base % 2 != 0:\n",
        "                                return base, pergunta\n",
        "                            else:\n",
        "                                print(\"Digite um número ímpar\")\n",
        "                        except ValueError:\n",
        "                            print(\"por favor digite um valor, Ex: 1, 4, 5, 7, 8, 01, 12\")\n",
        "\n",
        "            case \"altura\":\n",
        "                while True:\n",
        "                    print('\\n(Digite \"c\" para cancelar)')\n",
        "                    tamanho_altura = input('Digite a altura da pirâmide: ').lower()\n",
        "                    if tamanho_altura == \"c\":\n",
        "                        break\n",
        "                    else:\n",
        "                        try:\n",
        "                            altura = int(tamanho_altura)\n",
        "                            return altura, pergunta\n",
        "                        except ValueError:\n",
        "                            print(\"por favor digite um valor, Ex: 1, 4, 5, 7, 8, 01, 12\")\n",
        "\n",
        "            case _:\n",
        "                print(\"Resposta inválida\")\n",
        "\n",
        "def printar_pela_base(base):\n",
        "    contador = 0\n",
        "    for i in range(base + 2):\n",
        "        if i % 2 != 0:\n",
        "            print(\" \" * ((base // 2) - contador) + (\"*\" * i) + (\" \" * ((base // 2) - contador)))\n",
        "            contador += 1\n",
        "\n",
        "def printar_pela_altura(altura):\n",
        "    contador = 1\n",
        "    for i in range(altura * 2):\n",
        "        if i % 2 != 0:\n",
        "            print(\" \" * (altura - contador) + (\"*\" * i) + (\" \" * (altura - contador)))\n",
        "            contador += 1\n",
        "\n",
        "def preco(tamanho):\n",
        "    preco = tamanho * 26.3\n",
        "    print(f'\\nA sua pirâmide ficou em R${preco:.2f}')\n",
        "\n",
        "menu_inicial()"
      ]
    }
  ]
}